{
 "cells": [
  {
   "cell_type": "code",
   "execution_count": null,
   "id": "82e24ef6",
   "metadata": {},
   "outputs": [],
   "source": [
    "# schemas.py\n",
    "from pydantic import BaseModel, Field, field_validator\n",
    "from typing import Literal, Optional\n",
    "from datetime import date\n",
    "\n",
    "# Schema V1.0 - Current stable version (Strict Validation)\n",
    "class QuoteSchemaV1(BaseModel):\n",
    "    schema_version: Literal[\"v1.0\"]\n",
    "\n",
    "    Alloy: Literal['Iron', 'Aluminium', 'Copper', 'Nickel', 'Titanium', 'Zinc']\n",
    "    Finish: str\n",
    "    Length: float = Field(..., ge=0.1, le=100.0)\n",
    "    Weight: float = Field(..., ge=0.01, le=100.0)\n",
    "    Profile_Name: str\n",
    "    Tolerances: float = Field(..., ge=0.05, le=0.2)\n",
    "    GD_T: Literal['low', 'medium', 'high']\n",
    "    Order_Quantity: int = Field(..., ge=1)\n",
    "    LME_price: float = Field(..., ge=0.1)\n",
    "    Customer_Category: Literal['micro', 'small', 'medium', 'large']\n",
    "    Lead_Time_weeks: int = Field(..., ge=1, le=52)\n",
    "    Quote_Price_SEK: float = Field(..., ge=0.01)\n",
    "    Quote_Date: date\n",
    "\n",
    "    @field_validator(\"Length\")\n",
    "    def check_reasonable_length(cls, v):\n",
    "        if v > 50:\n",
    "            print(\"\\u26a0\\ufe0f Warning: unusually long profile length.\")\n",
    "        return v\n",
    "\n",
    "\n",
    "# Soft Schema for messy data (allows missing values)\n",
    "class QuoteSchemaSoft(BaseModel):\n",
    "    schema_version: Optional[str] = \"v1.0\"\n",
    "\n",
    "    Alloy: Optional[str]\n",
    "    Finish: Optional[str]\n",
    "    Length: Optional[float]\n",
    "    Weight: Optional[float]\n",
    "    Profile_Name: Optional[str]\n",
    "    Tolerances: Optional[float]\n",
    "    GD_T: Optional[str]\n",
    "    Order_Quantity: Optional[int]\n",
    "    LME_price: Optional[float]\n",
    "    Customer_Category: Optional[str]\n",
    "    Lead_Time_weeks: Optional[int]\n",
    "    Quote_Price_SEK: Optional[float]\n",
    "    Quote_Date: Optional[date]\n",
    "\n"
   ]
  }
 ],
 "metadata": {
  "language_info": {
   "name": "python"
  }
 },
 "nbformat": 4,
 "nbformat_minor": 5
}
