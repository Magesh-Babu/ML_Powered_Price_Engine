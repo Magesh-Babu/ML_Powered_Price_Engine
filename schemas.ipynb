{
 "cells": [
  {
   "cell_type": "code",
   "execution_count": null,
   "id": "27172dcc",
   "metadata": {},
   "outputs": [],
   "source": [
    "from pydantic import BaseModel, Field\n",
    "from datetime import date\n",
    "from typing import Literal\n",
    "\n",
    "# Schema V1.0 - Current stable version (Strict Validation)\n",
    "class QuoteSchemaV1(BaseModel):\n",
    "    \"\"\"Input schema for generating a price quote based on product specifications.\"\"\"\n",
    "    Alloy: Literal['Iron', 'Aluminium', 'Copper', 'Nickel', 'Titanium', 'Zinc', 'Steel', 'Brass', 'Lead', 'Tin']\n",
    "    Finish: Literal['Powder coated', 'Wet painted', 'Electroplated', 'Anodized', 'Polished', 'Brushed', 'Chrome plated',\n",
    "                       'Plasma sprayed', 'Phosphated', 'Hot-dip galvanized', 'Blackening']\n",
    "    Length_m: float = Field(..., ge=0.1, le=100.0)\n",
    "    Weight_kg_m: float = Field(..., ge=0.01, le=100.0)\n",
    "    Tolerances: float = Field(..., ge=0.05, le=0.2)\n",
    "    GD_T: Literal['low', 'medium', 'high']\n",
    "    Order_Quantity: int = Field(..., ge=1)\n",
    "    LME_Price_EUR: float = Field(..., ge=0.1)\n",
    "    Customer_Category: Literal['micro', 'small', 'medium', 'large']\n",
    "    Lead_Time_weeks: int = Field(..., ge=1, le=52)\n",
    "    Profile_Name: str\n",
    "\n",
    "class QuoteResponse(BaseModel):\n",
    "    \"\"\"Response containing a predicted price quote and model version.\"\"\"\n",
    "    predicted_price: float\n",
    "    PI_lower: float\n",
    "    PI_upper: float\n",
    "    model_version: int\n",
    "\n",
    "class FeedbackRequest(QuoteSchemaV1):\n",
    "    \"\"\"Feedback submission including actual price of a quoted item.\"\"\"\n",
    "    Quote_Price_SEK: float = Field(..., gt=0, description=\"The actual confirmed price for the item\")\n",
    "    Quote_Date: date\n",
    "\n",
    "class FeedbackResponse(BaseModel):\n",
    "    \"\"\"Response after feedback is processed, confirming model update.\"\"\"\n",
    "    message: str\n",
    "    new_version: int"
   ]
  }
 ],
 "metadata": {
  "language_info": {
   "name": "python"
  }
 },
 "nbformat": 4,
 "nbformat_minor": 5
}
