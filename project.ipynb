{
 "cells": [
  {
   "cell_type": "code",
   "execution_count": 1,
   "id": "c5a606c7",
   "metadata": {},
   "outputs": [
    {
     "data": {
      "text/plain": [
       "'Offert 2\\n\\nDatum: 2025-02-25\\n\\nVar referens: Erik Svensson\\n\\nEr referens: Maria Lindgren\\nKund: Sapa Fonster AB, Vetlanda\\n\\nAluminiumprofiler fran Nordisk Alu Profil/ Purso OY\\n\\nProfil nr / Vikt Langd/m Kap + truml ca antal\\n\\nKund ref. kg/m m Pris/st Arsvolym st\\nKarmlist 1,342 23,8 0,78 40000\\nKarmlist 1,342 25,8 0,78 40000\\nKarmlist 1,342 23,8 0,78 85000\\nKarmlist 1,342 25,8 0,78 85000\\n\\nVerktygskostnad: 14500kr\\n\\nLegering: Ra\\n\\nToleranser: EN 755-9\\n\\nYtbehandling: EN-AW-6063-T5\\n\\nLev. langd: Langder enligt ovan\\n\\nLev. villkor: Ex Works Halmstad\\n\\nLev. tid: forsta 8-10 veckor fran order darefter 5-6 veckor\\n\\nNOT: Minst 15000 bitar kapade, ok att blanda langder, inkl trumling\\nBetalningsvillkor: 30 dagar netto. Dréjsmalsranta 7,5%\\n\\nPris\\n\\nkr/st\\n\\nSEK\\n2,92\\n3,05\\n2,88\\n\\n3,01\\n\\nGiltighet: Offererade priser galler fast for leveranser t.o.m. 2025-05-30\\n\\nAllmanna villkor: NAPFV2017\\nRavara: 3,4 Euro / kg\\n\\nLegerin\\ng:\\n\\nRa\\n\\nRa\\n\\nRa\\n\\nRa\\n'"
      ]
     },
     "execution_count": 1,
     "metadata": {},
     "output_type": "execute_result"
    }
   ],
   "source": [
    "import fitz  # PyMuPDF\n",
    "import pytesseract\n",
    "from PIL import Image\n",
    "import io\n",
    "\n",
    "# Load the PDF with PyMuPDF\n",
    "doc = fitz.open(\"/Users/mageshbabu/Desktop/Projects/project_odens/Test files/PdfNAP (1).pdf\")\n",
    "\n",
    "# Extract text using OCR from the first page image\n",
    "page = doc.load_page(0)\n",
    "pix = page.get_pixmap(dpi=300)\n",
    "img = Image.open(io.BytesIO(pix.tobytes(\"png\")))\n",
    "text = pytesseract.image_to_string(img, lang=\"eng\")\n",
    "\n",
    "# Display the extracted OCR text for verification\n",
    "text[:1500]\n"
   ]
  },
  {
   "cell_type": "code",
   "execution_count": 5,
   "id": "d8da7a50",
   "metadata": {},
   "outputs": [],
   "source": [
    "import re\n",
    "import pandas as pd"
   ]
  },
  {
   "cell_type": "code",
   "execution_count": 6,
   "id": "a473b134",
   "metadata": {},
   "outputs": [
    {
     "ename": "KeyError",
     "evalue": "'Vikt_kg_per_m'",
     "output_type": "error",
     "traceback": [
      "\u001b[0;31m---------------------------------------------------------------------------\u001b[0m",
      "\u001b[0;31mKeyError\u001b[0m                                  Traceback (most recent call last)",
      "Cell \u001b[0;32mIn[6], line 20\u001b[0m\n\u001b[1;32m     17\u001b[0m df \u001b[38;5;241m=\u001b[39m pd\u001b[38;5;241m.\u001b[39mDataFrame(data)\n\u001b[1;32m     19\u001b[0m \u001b[38;5;66;03m# Convert numeric columns\u001b[39;00m\n\u001b[0;32m---> 20\u001b[0m df[\u001b[38;5;124m\"\u001b[39m\u001b[38;5;124mVikt_kg_per_m\u001b[39m\u001b[38;5;124m\"\u001b[39m] \u001b[38;5;241m=\u001b[39m \u001b[43mdf\u001b[49m\u001b[43m[\u001b[49m\u001b[38;5;124;43m\"\u001b[39;49m\u001b[38;5;124;43mVikt_kg_per_m\u001b[39;49m\u001b[38;5;124;43m\"\u001b[39;49m\u001b[43m]\u001b[49m\u001b[38;5;241m.\u001b[39mastype(\u001b[38;5;28mfloat\u001b[39m)\n\u001b[1;32m     21\u001b[0m df[\u001b[38;5;124m\"\u001b[39m\u001b[38;5;124mLangd_m\u001b[39m\u001b[38;5;124m\"\u001b[39m] \u001b[38;5;241m=\u001b[39m df[\u001b[38;5;124m\"\u001b[39m\u001b[38;5;124mLangd_m\u001b[39m\u001b[38;5;124m\"\u001b[39m]\u001b[38;5;241m.\u001b[39mastype(\u001b[38;5;28mfloat\u001b[39m)\n\u001b[1;32m     22\u001b[0m df[\u001b[38;5;124m\"\u001b[39m\u001b[38;5;124mKap_och_truml_Pris_st\u001b[39m\u001b[38;5;124m\"\u001b[39m] \u001b[38;5;241m=\u001b[39m df[\u001b[38;5;124m\"\u001b[39m\u001b[38;5;124mKap_och_truml_Pris_st\u001b[39m\u001b[38;5;124m\"\u001b[39m]\u001b[38;5;241m.\u001b[39mastype(\u001b[38;5;28mfloat\u001b[39m)\n",
      "File \u001b[0;32m/opt/miniconda3/envs/test/lib/python3.10/site-packages/pandas/core/frame.py:4102\u001b[0m, in \u001b[0;36mDataFrame.__getitem__\u001b[0;34m(self, key)\u001b[0m\n\u001b[1;32m   4100\u001b[0m \u001b[38;5;28;01mif\u001b[39;00m \u001b[38;5;28mself\u001b[39m\u001b[38;5;241m.\u001b[39mcolumns\u001b[38;5;241m.\u001b[39mnlevels \u001b[38;5;241m>\u001b[39m \u001b[38;5;241m1\u001b[39m:\n\u001b[1;32m   4101\u001b[0m     \u001b[38;5;28;01mreturn\u001b[39;00m \u001b[38;5;28mself\u001b[39m\u001b[38;5;241m.\u001b[39m_getitem_multilevel(key)\n\u001b[0;32m-> 4102\u001b[0m indexer \u001b[38;5;241m=\u001b[39m \u001b[38;5;28;43mself\u001b[39;49m\u001b[38;5;241;43m.\u001b[39;49m\u001b[43mcolumns\u001b[49m\u001b[38;5;241;43m.\u001b[39;49m\u001b[43mget_loc\u001b[49m\u001b[43m(\u001b[49m\u001b[43mkey\u001b[49m\u001b[43m)\u001b[49m\n\u001b[1;32m   4103\u001b[0m \u001b[38;5;28;01mif\u001b[39;00m is_integer(indexer):\n\u001b[1;32m   4104\u001b[0m     indexer \u001b[38;5;241m=\u001b[39m [indexer]\n",
      "File \u001b[0;32m/opt/miniconda3/envs/test/lib/python3.10/site-packages/pandas/core/indexes/range.py:417\u001b[0m, in \u001b[0;36mRangeIndex.get_loc\u001b[0;34m(self, key)\u001b[0m\n\u001b[1;32m    415\u001b[0m         \u001b[38;5;28;01mraise\u001b[39;00m \u001b[38;5;167;01mKeyError\u001b[39;00m(key) \u001b[38;5;28;01mfrom\u001b[39;00m\u001b[38;5;250m \u001b[39m\u001b[38;5;21;01merr\u001b[39;00m\n\u001b[1;32m    416\u001b[0m \u001b[38;5;28;01mif\u001b[39;00m \u001b[38;5;28misinstance\u001b[39m(key, Hashable):\n\u001b[0;32m--> 417\u001b[0m     \u001b[38;5;28;01mraise\u001b[39;00m \u001b[38;5;167;01mKeyError\u001b[39;00m(key)\n\u001b[1;32m    418\u001b[0m \u001b[38;5;28mself\u001b[39m\u001b[38;5;241m.\u001b[39m_check_indexing_error(key)\n\u001b[1;32m    419\u001b[0m \u001b[38;5;28;01mraise\u001b[39;00m \u001b[38;5;167;01mKeyError\u001b[39;00m(key)\n",
      "\u001b[0;31mKeyError\u001b[0m: 'Vikt_kg_per_m'"
     ]
    }
   ],
   "source": [
    "# Use regex to extract quote lines from OCR text\n",
    "pattern = re.compile(r\"(Karmlist)\\s+([\\d,]+)\\s+([\\d,]+)\\s+([\\d,]+)\\s+(\\d+)\\s+([\\d,]+)\")\n",
    "\n",
    "data = []\n",
    "for match in pattern.finditer(text):\n",
    "    data.append({\n",
    "        \"Profil_namn\": match.group(1),\n",
    "        \"Vikt_kg_per_m\": match.group(2).replace(\",\", \".\"),\n",
    "        \"Langd_m\": match.group(3).replace(\",\", \".\"),\n",
    "        \"Kap_och_truml_Pris_st\": match.group(4).replace(\",\", \".\"),\n",
    "        \"Arsvolym_st\": int(match.group(5)),\n",
    "        \"Pris_kr_per_st_SEK\": match.group(6).replace(\",\", \".\"),\n",
    "        \"Legering\": \"Rå\"  # From context in OCR text\n",
    "    })\n",
    "\n",
    "# Convert to DataFrame\n",
    "df = pd.DataFrame(data)\n",
    "\n",
    "# Convert numeric columns\n",
    "df[\"Vikt_kg_per_m\"] = df[\"Vikt_kg_per_m\"].astype(float)\n",
    "df[\"Langd_m\"] = df[\"Langd_m\"].astype(float)\n",
    "df[\"Kap_och_truml_Pris_st\"] = df[\"Kap_och_truml_Pris_st\"].astype(float)\n",
    "df[\"Pris_kr_per_st_SEK\"] = df[\"Pris_kr_per_st_SEK\"].astype(float)\n",
    "\n",
    "import ace_tools as tools; tools.display_dataframe_to_user(name=\"Extracted Quote Data (OCR)\", dataframe=df)\n"
   ]
  },
  {
   "cell_type": "code",
   "execution_count": null,
   "id": "f92910a3",
   "metadata": {},
   "outputs": [],
   "source": []
  }
 ],
 "metadata": {
  "kernelspec": {
   "display_name": "test",
   "language": "python",
   "name": "python3"
  },
  "language_info": {
   "codemirror_mode": {
    "name": "ipython",
    "version": 3
   },
   "file_extension": ".py",
   "mimetype": "text/x-python",
   "name": "python",
   "nbconvert_exporter": "python",
   "pygments_lexer": "ipython3",
   "version": "3.10.16"
  }
 },
 "nbformat": 4,
 "nbformat_minor": 5
}
