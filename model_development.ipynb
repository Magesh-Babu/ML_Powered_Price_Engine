{
 "cells": [
  {
   "cell_type": "code",
   "execution_count": 1,
   "id": "175462d0",
   "metadata": {},
   "outputs": [],
   "source": [
    "import pandas as pd\n",
    "import numpy as np\n",
    "from sklearn.ensemble import RandomForestRegressor\n",
    "from sklearn.model_selection import TimeSeriesSplit, train_test_split\n",
    "from sklearn.metrics import mean_absolute_error, mean_squared_error, r2_score, mean_absolute_percentage_error\n",
    "from skopt import BayesSearchCV\n",
    "from skopt.space import Real, Integer"
   ]
  },
  {
   "cell_type": "code",
   "execution_count": 2,
   "id": "cabe2c79",
   "metadata": {},
   "outputs": [],
   "source": [
    "df = pd.read_csv(\"final.csv\", parse_dates=[\"Quote Date\"])  # Load your dataset"
   ]
  },
  {
   "cell_type": "code",
   "execution_count": 3,
   "id": "bf2e82a4",
   "metadata": {},
   "outputs": [],
   "source": [
    "df.columns = df.columns.str.replace(' ', '_')  # Replace spaces with underscores in column names"
   ]
  },
  {
   "cell_type": "code",
   "execution_count": 5,
   "id": "8ca58e96",
   "metadata": {},
   "outputs": [
    {
     "name": "stdout",
     "output_type": "stream",
     "text": [
      "{'Best Hyperparameters': OrderedDict([('max_depth', 30), ('max_features', 1.0), ('min_samples_leaf', 1), ('min_samples_split', 2), ('n_estimators', 100)]), 'MAE': 0.0022, 'RMSE': 0.0, 'R2 Score': 1.0, 'MAPE (%)': 0.08}\n"
     ]
    }
   ],
   "source": [
    "# Load and sort dataset by date\n",
    "#df = pd.read_csv(\"final.csv\", parse_dates=[\"Quote_Date\"])\n",
    "df_sorted = df.sort_values(\"Quote_Date\").reset_index(drop=True)\n",
    "\n",
    "# Split features and target\n",
    "X = df_sorted.drop(columns=[\"Quote_Price_(SEK)\", \"Quote_Date\"])\n",
    "y = df_sorted[\"Quote_Price_(SEK)\"]\n",
    "\n",
    "# Define Bayesian search space\n",
    "search_space = {\n",
    "    'n_estimators': Integer(100, 300),\n",
    "    'max_depth': Integer(5, 30),\n",
    "    'min_samples_split': Integer(2, 10),\n",
    "    'min_samples_leaf': Integer(1, 10),\n",
    "    'max_features': Real(0.1, 1.0)\n",
    "}\n",
    "\n",
    "# Time Series CV\n",
    "tscv = TimeSeriesSplit(n_splits=5)\n",
    "\n",
    "# BayesSearchCV\n",
    "bayes_cv = BayesSearchCV(\n",
    "    estimator=RandomForestRegressor(random_state=42),\n",
    "    search_spaces=search_space,\n",
    "    cv=tscv,\n",
    "    n_iter=20,\n",
    "    scoring='neg_root_mean_squared_error',\n",
    "    n_jobs=-1,\n",
    "    random_state=42\n",
    ")\n",
    "bayes_cv.fit(X, y)\n",
    "\n",
    "# Train/Test split after sorting\n",
    "X_train, X_test, y_train, y_test = train_test_split(X, y, test_size=0.2, shuffle=False)\n",
    "\n",
    "# Train final model with best parameters\n",
    "final_model = RandomForestRegressor(**bayes_cv.best_params_, random_state=42)\n",
    "final_model.fit(X_train, y_train)\n",
    "\n",
    "# Predict and evaluate\n",
    "preds = final_model.predict(X_test)\n",
    "metrics = {\n",
    "    \"Best Hyperparameters\": bayes_cv.best_params_,\n",
    "    \"MAE\": round(mean_absolute_error(y_test, preds), 4),\n",
    "    \"RMSE\": round(mean_squared_error(y_test, preds), 4),\n",
    "    \"R2 Score\": round(r2_score(y_test, preds), 4),\n",
    "    \"MAPE (%)\": round(mean_absolute_percentage_error(y_test, preds) * 100, 2)\n",
    "}\n",
    "print(metrics)"
   ]
  },
  {
   "cell_type": "code",
   "execution_count": null,
   "id": "5fea69c1",
   "metadata": {},
   "outputs": [],
   "source": [
    "import os\n",
    "import joblib\n",
    "import json"
   ]
  },
  {
   "cell_type": "code",
   "execution_count": null,
   "id": "58715518",
   "metadata": {},
   "outputs": [],
   "source": [
    "# Directory setup for model storage and registry\n",
    "MODEL_DIR = \"models\"\n",
    "REGISTRY_FILE = os.path.join(MODEL_DIR, \"model_registry.json\")\n",
    "\n",
    "os.makedirs(MODEL_DIR, exist_ok=True)"
   ]
  },
  {
   "cell_type": "code",
   "execution_count": null,
   "id": "ad9af936",
   "metadata": {},
   "outputs": [],
   "source": [
    "# ---------------------------\n",
    "# 1. Save a model per user\n",
    "# ---------------------------\n",
    "def save_model(model, user_id, version):\n",
    "    user_dir = os.path.join(MODEL_DIR, user_id)\n",
    "    os.makedirs(user_dir, exist_ok=True)\n",
    "    filepath = os.path.join(user_dir, f\"model_{version}.pkl\")\n",
    "    joblib.dump(model, filepath)\n",
    "    print(f\"✅ Model saved for user '{user_id}' as version '{version}' at: {filepath}\")\n",
    "    return filepath"
   ]
  },
  {
   "cell_type": "code",
   "execution_count": null,
   "id": "7ee6b364",
   "metadata": {},
   "outputs": [],
   "source": [
    "# ---------------------------\n",
    "# 2. Load a model per user/version\n",
    "# ---------------------------\n",
    "def load_model(user_id, version):\n",
    "    filepath = os.path.join(MODEL_DIR, user_id, f\"model_{version}.pkl\")\n",
    "    if not os.path.exists(filepath):\n",
    "        raise FileNotFoundError(f\"❌ No model found for user '{user_id}' with version '{version}'\")\n",
    "    model = joblib.load(filepath)\n",
    "    print(f\"✅ Model loaded for user '{user_id}', version '{version}'\")\n",
    "    return model"
   ]
  },
  {
   "cell_type": "code",
   "execution_count": null,
   "id": "2c460d0c",
   "metadata": {},
   "outputs": [],
   "source": [
    "# ---------------------------\n",
    "# 3. Maintain model registry\n",
    "# ---------------------------\n",
    "def update_registry(user_id, version):\n",
    "    if os.path.exists(REGISTRY_FILE):\n",
    "        with open(REGISTRY_FILE, \"r\") as f:\n",
    "            registry = json.load(f)\n",
    "    else:\n",
    "        registry = {}\n",
    "\n",
    "    if user_id not in registry:\n",
    "        registry[user_id] = {\"latest\": version, \"history\": [version]}\n",
    "    else:\n",
    "        if version not in registry[user_id][\"history\"]:\n",
    "            registry[user_id][\"history\"].append(version)\n",
    "        registry[user_id][\"latest\"] = version\n",
    "\n",
    "    with open(REGISTRY_FILE, \"w\") as f:\n",
    "        json.dump(registry, f, indent=4)\n",
    "\n",
    "    print(f\"📘 Registry updated for user '{user_id}' with version '{version}'\")"
   ]
  },
  {
   "cell_type": "code",
   "execution_count": null,
   "id": "2202f7ea",
   "metadata": {},
   "outputs": [],
   "source": [
    "# ---------------------------\n",
    "# 4. Retrieve latest model version for a user\n",
    "# ---------------------------\n",
    "def get_latest_version(user_id):\n",
    "    if os.path.exists(REGISTRY_FILE):\n",
    "        with open(REGISTRY_FILE, \"r\") as f:\n",
    "            registry = json.load(f)\n",
    "        return registry.get(user_id, {}).get(\"latest\")\n",
    "    return None\n",
    "\n",
    "# Simulate saving a model\n",
    "dummy_model = RandomForestRegressor()\n",
    "dummy_model.fit([[0, 1], [1, 0]], [0, 1])  # simple dummy fit for demo\n",
    "\n",
    "user_id = \"user_001\"\n",
    "version = \"v1\"\n",
    "\n",
    "model_path = save_model(dummy_model, user_id, version)\n",
    "update_registry(user_id, version)\n"
   ]
  },
  {
   "cell_type": "code",
   "execution_count": null,
   "id": "ddb58208",
   "metadata": {},
   "outputs": [],
   "source": [
    "# Demonstrate loading the latest model\n",
    "latest_version = get_latest_version(user_id)\n",
    "loaded_model = load_model(user_id, latest_version)"
   ]
  }
 ],
 "metadata": {
  "kernelspec": {
   "display_name": "test",
   "language": "python",
   "name": "python3"
  },
  "language_info": {
   "codemirror_mode": {
    "name": "ipython",
    "version": 3
   },
   "file_extension": ".py",
   "mimetype": "text/x-python",
   "name": "python",
   "nbconvert_exporter": "python",
   "pygments_lexer": "ipython3",
   "version": "3.10.16"
  }
 },
 "nbformat": 4,
 "nbformat_minor": 5
}
