{
 "cells": [
  {
   "cell_type": "code",
   "execution_count": 1,
   "id": "615f3cbe",
   "metadata": {},
   "outputs": [],
   "source": [
    "from sklearn.ensemble import IsolationForest\n",
    "import pandas as pd\n",
    "import numpy as np"
   ]
  },
  {
   "cell_type": "code",
   "execution_count": 2,
   "id": "32c71276",
   "metadata": {},
   "outputs": [],
   "source": [
    "df = pd.read_csv(\"quotes_dataset_imputation_done.csv\")  # Load your dataset"
   ]
  },
  {
   "cell_type": "code",
   "execution_count": 3,
   "id": "deb8e5df",
   "metadata": {},
   "outputs": [
    {
     "data": {
      "text/plain": [
       "np.int64(0)"
      ]
     },
     "execution_count": 3,
     "metadata": {},
     "output_type": "execute_result"
    }
   ],
   "source": [
    "# Isolation Forest for outlier detection on 'Weight'\n",
    "iso_forest = IsolationForest(contamination=0.02, random_state=42)\n",
    "df['Weight_outlier'] = iso_forest.fit_predict(df[['Weight']])\n",
    "\n",
    "# -1 means outlier, 1 means normal\n",
    "# We'll handle outliers by replacing them using interpolation from neighbors\n",
    "\n",
    "# Mark outliers as NaN\n",
    "df.loc[df['Weight_outlier'] == -1, 'Weight'] = np.nan\n",
    "\n",
    "# Interpolate missing (outlier) values using linear interpolation\n",
    "df['Weight'] = df['Weight'].interpolate(method='linear', limit_direction='both')\n",
    "\n",
    "# Drop the helper column\n",
    "df.drop(columns=['Weight_outlier'], inplace=True)\n",
    "\n",
    "# Check if any NaNs remain\n",
    "df['Weight'].isnull().sum()"
   ]
  },
  {
   "cell_type": "code",
   "execution_count": 4,
   "id": "235b73b2",
   "metadata": {},
   "outputs": [],
   "source": [
    "output_file = \"quotes_dataset_outlier_done.csv\"\n",
    "df.to_csv(output_file, index=False)"
   ]
  },
  {
   "cell_type": "code",
   "execution_count": null,
   "id": "a783e269",
   "metadata": {},
   "outputs": [],
   "source": []
  }
 ],
 "metadata": {
  "kernelspec": {
   "display_name": "test",
   "language": "python",
   "name": "python3"
  },
  "language_info": {
   "codemirror_mode": {
    "name": "ipython",
    "version": 3
   },
   "file_extension": ".py",
   "mimetype": "text/x-python",
   "name": "python",
   "nbconvert_exporter": "python",
   "pygments_lexer": "ipython3",
   "version": "3.10.16"
  }
 },
 "nbformat": 4,
 "nbformat_minor": 5
}
