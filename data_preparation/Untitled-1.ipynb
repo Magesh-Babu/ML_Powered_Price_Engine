{
 "cells": [
  {
   "cell_type": "code",
   "execution_count": 1,
   "id": "f68dd448",
   "metadata": {},
   "outputs": [],
   "source": [
    "import pdfplumber"
   ]
  },
  {
   "cell_type": "code",
   "execution_count": 2,
   "id": "88103e1e",
   "metadata": {},
   "outputs": [],
   "source": [
    "pdf_path = \"PdfNAP (1).pdf\"  # Replace with your PDF file path"
   ]
  },
  {
   "cell_type": "code",
   "execution_count": 3,
   "id": "a954f024",
   "metadata": {},
   "outputs": [
    {
     "name": "stderr",
     "output_type": "stream",
     "text": [
      "CropBox missing from /Page, defaulting to MediaBox\n",
      "CropBox missing from /Page, defaulting to MediaBox\n"
     ]
    }
   ],
   "source": [
    "with pdfplumber.open(pdf_path) as pdf:\n",
    "    page = pdf.pages[0]\n",
    "    text = page.extract_text()\n",
    "lines = text.splitlines()"
   ]
  },
  {
   "cell_type": "code",
   "execution_count": 4,
   "id": "b8fae468",
   "metadata": {},
   "outputs": [
    {
     "data": {
      "text/plain": [
       "['Offert 2',\n",
       " 'Datum: 2025-02-25',\n",
       " 'Vår referens: Erik Svensson',\n",
       " 'Er referens: Maria Lindgren',\n",
       " 'Kund: Sapa Fönster AB, Vetlanda',\n",
       " 'Aluminiumprofiler från Nordisk Alu Profil/ Purso OY',\n",
       " 'Profil nr / Vikt Längd/m Kap + truml ca antal Pris Legerin',\n",
       " 'Kund ref. kg/m m Pris/st Årsvolym st kr/st g:',\n",
       " 'SEK',\n",
       " 'Karmlist 1,342 23,8 0,78 40000 2,92 Rå',\n",
       " 'Karmlist 1,342 25,8 0,78 40000 3,05 Rå',\n",
       " 'Karmlist 1,342 23,8 0,78 85000 2,88 Rå',\n",
       " 'Karmlist 1,342 25,8 0,78 85000 3,01 Rå',\n",
       " 'Verktygskostnad: 14500kr',\n",
       " 'Legering: Rå',\n",
       " 'Toleranser: EN 755-9',\n",
       " 'Ytbehandling: EN-AW-6063-T5',\n",
       " 'Lev. längd: Längder enligt ovan',\n",
       " 'Lev. villkor: Ex Works Halmstad',\n",
       " 'Lev. tid: första 8-10 veckor från order därefter 5-6 veckor',\n",
       " 'NOT: Minst 15000 bitar kapade, ok att blanda längder, inkl trumling',\n",
       " 'Betalningsvillkor: 30 dagar netto. Dröjsmålsränta 7,5%',\n",
       " 'Giltighet: Offererade priser gäller fast för leveranser t.o.m. 2025-05-30',\n",
       " 'Allmänna villkor: NAPFV2017',\n",
       " 'Råvara: 3,4 Euro / kg']"
      ]
     },
     "execution_count": 4,
     "metadata": {},
     "output_type": "execute_result"
    }
   ],
   "source": [
    "lines"
   ]
  },
  {
   "cell_type": "code",
   "execution_count": null,
   "id": "3ab24db3",
   "metadata": {},
   "outputs": [],
   "source": [
    "# Identify the start of the table and the end (marked by \"Verktygskostnad:\")\n",
    "idx_tool = None\n",
    "idx_table_start = None\n",
    "for i, line in enumerate(lines):\n",
    "    if idx_table_start is None and (\"Profil nr\" in line or (line.strip().startswith(\"Profil\") and \"kg/m\" in line)):\n",
    "        idx_table_start = i\n",
    "    if line.strip().startswith(\"Verktygskostnad:\"):\n",
    "        idx_tool = i\n",
    "        break\n",
    "\n",
    "if idx_table_start is None or idx_tool is None:\n",
    "    data_lines = []  # assign empty if parsing failed\n",
    "else:\n",
    "    #print(f\"Table starts at line {idx_table_start}, ends at line {idx_tool}\")\n",
    "\n",
    "    # Determine where the actual data lines begin (after the header lines)\n",
    "    idx_data_start = idx_table_start\n",
    "    for j in range(idx_table_start, idx_tool):\n",
    "        # The last header line often contains \"Årsvolym\" or \"SEK\" or ends with \"g:\"\n",
    "        if \"Årsvolym\" in lines[j] or lines[j].strip() == \"SEK\" or lines[j].strip().endswith(\"g:\"):\n",
    "            idx_data_start = j + 1\n",
    "\n",
    "    # Extract table data lines, filtering out header artifacts\n",
    "    data_lines = []\n",
    "    for k in range(idx_data_start, idx_tool):\n",
    "        line_clean = lines[k].strip()\n",
    "        if not line_clean or any(line_clean.startswith(h) for h in [\"Profil\", \"Kund ref.\", \"Vikt\", \"Pris/st\", \"Kap\", \"SEK\"]):\n",
    "            continue\n",
    "\n",
    "        parts = line_clean.split()\n",
    "        if len(parts) >= 7:\n",
    "            # We assume last 6 parts are numeric values, first is profile name\n",
    "            profile_name = \" \".join(parts[:-6])\n",
    "            row = [\n",
    "                profile_name,\n",
    "                parts[-6],  # Vikt\n",
    "                parts[-5],  # Längd\n",
    "                parts[-4],  # Kap+truml\n",
    "                parts[-3],  # Årsvolym\n",
    "                parts[-2],  # Pris\n",
    "                parts[-1],  # Legering\n",
    "            ]\n",
    "            data_lines.append(row)   \n",
    "\n",
    "# Determine where the actual data lines begin (after the header lines)\n",
    "idx_data_start = idx_table_start\n",
    "for j in range(idx_table_start, idx_tool):\n",
    "    # The last header line often contains \"Årsvolym\" or \"SEK\" or ends with \"g:\"\n",
    "    if \"Årsvolym\" in lines[j] or lines[j].strip() == \"SEK\" or lines[j].strip().endswith(\"g:\"):\n",
    "        idx_data_start = j + 1\n",
    "\n",
    "# Extract table data lines, filtering out header artifacts\n",
    "data_lines = []\n",
    "for k in range(idx_data_start, idx_tool):\n",
    "    line_clean = lines[k].strip()\n",
    "    if not line_clean or any(line_clean.startswith(h) for h in [\"Profil\", \"Kund ref.\", \"Vikt\", \"Pris/st\", \"Kap\", \"SEK\"]):\n",
    "        continue\n",
    "\n",
    "    parts = line_clean.split()\n",
    "    if len(parts) >= 7:\n",
    "        # We assume last 6 parts are numeric values, first is profile name\n",
    "        profile_name = \" \".join(parts[:-6])\n",
    "        row = [\n",
    "            profile_name,\n",
    "            parts[-6],  # Vikt\n",
    "            parts[-5],  # Längd\n",
    "            parts[-4],  # Kap+truml\n",
    "            parts[-3],  # Årsvolym\n",
    "            parts[-2],  # Pris\n",
    "            parts[-1],  # Legering\n",
    "        ]\n",
    "        data_lines.append(row)   \n",
    "    \n",
    "#print(\"Data lines extracted:\", data_lines)"
   ]
  }
 ],
 "metadata": {
  "kernelspec": {
   "display_name": "test",
   "language": "python",
   "name": "python3"
  },
  "language_info": {
   "codemirror_mode": {
    "name": "ipython",
    "version": 3
   },
   "file_extension": ".py",
   "mimetype": "text/x-python",
   "name": "python",
   "nbconvert_exporter": "python",
   "pygments_lexer": "ipython3",
   "version": "3.10.16"
  }
 },
 "nbformat": 4,
 "nbformat_minor": 5
}
