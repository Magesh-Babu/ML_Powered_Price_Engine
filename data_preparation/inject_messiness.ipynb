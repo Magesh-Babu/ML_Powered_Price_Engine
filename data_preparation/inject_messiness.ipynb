{
 "cells": [
  {
   "cell_type": "code",
   "execution_count": null,
   "id": "09d828d5",
   "metadata": {},
   "outputs": [],
   "source": [
    "import numpy as np\n",
    "import pandas as pd"
   ]
  },
  {
   "cell_type": "code",
   "execution_count": null,
   "id": "5725486e",
   "metadata": {},
   "outputs": [],
   "source": [
    "# Utility functions for injecting messiness\n",
    "\n",
    "def inject_missing_lead_time(df, frac=0.05, col='Lead Time (weeks)'):\n",
    "    \"\"\"Randomly set a fraction of 'Lead Time (weeks)' as NaN.\"\"\"\n",
    "    df.loc[df.sample(frac=frac).index, col] = np.nan\n",
    "    return df\n",
    "\n",
    "def inject_extreme_weights(df, frac=0.01, col='Weight', multiplier=4):\n",
    "    \"\"\"Set a fraction of 'Weight' values to unrealistic extremes.\"\"\"\n",
    "    df.loc[df.sample(frac=frac).index, col] = df[col].mean() * multiplier\n",
    "    return df\n",
    "\n",
    "def inject_profile_name_noise(df, frac=0.07, col='Profile Name'):\n",
    "    \"\"\"Randomly shuffle some 'Profile Name' values.\"\"\"\n",
    "    unique_profiles = df[col].unique()\n",
    "    shuffle_indices = np.random.choice(df.index, size=int(frac * len(df)), replace=False)\n",
    "    for idx in shuffle_indices:\n",
    "        df.at[idx, col] = np.random.choice(unique_profiles)\n",
    "    return df\n",
    "\n",
    "def inject_tolerance_noise(df, col='Tolerances', loc=0, scale=0.007, min_val=0.05, max_val=0.2):\n",
    "    \"\"\"Inject Gaussian noise into 'Tolerances' and clip values.\"\"\"\n",
    "    tolerance_noise = np.random.normal(loc=loc, scale=scale, size=len(df))\n",
    "    df[col] = (df[col] + tolerance_noise).clip(min_val, max_val)\n",
    "    return df\n",
    "\n",
    "def swap_gdt_values(df, frac=0.07, col='GD&T', values=None):\n",
    "    \"\"\"Randomly swap a fraction of 'GD&T' values.\"\"\"\n",
    "    if values is None:\n",
    "        values = [\"low\", \"medium\", \"high\"]\n",
    "    gd_indices = np.random.choice(df.index, size=int(frac * len(df)), replace=False)\n",
    "    for idx in gd_indices:\n",
    "        current = df.at[idx, col]\n",
    "        options = [val for val in values if val != current]\n",
    "        df.at[idx, col] = np.random.choice(options)\n",
    "    return df"
   ]
  },
  {
   "cell_type": "code",
   "execution_count": null,
   "id": "49a0869b",
   "metadata": {},
   "outputs": [],
   "source": [
    "# Main workflow\n",
    "\n",
    "def main(input_file=\"simulated_quotes_dataset.csv\", output_file=\"quotes_dataset_messy.csv\"):\n",
    "    df = pd.read_csv(input_file)\n",
    "    df = inject_missing_lead_time(df)\n",
    "    df = inject_extreme_weights(df)\n",
    "    df = inject_profile_name_noise(df)\n",
    "    df = inject_tolerance_noise(df)\n",
    "    df = swap_gdt_values(df)\n",
    "    df.to_csv(output_file, index=False)\n",
    "    return output_file\n",
    "\n",
    "# Run the messiness injection\n",
    "messy_file = main()"
   ]
  },
  {
   "cell_type": "code",
   "execution_count": null,
   "id": "58c46123",
   "metadata": {},
   "outputs": [],
   "source": [
    "# Quick checks and summary\n",
    "\n",
    "def describe_and_nulls(file_path):\n",
    "    df = pd.read_csv(file_path)\n",
    "    print(df.describe())\n",
    "    print(\"\\nMissing values per column:\")\n",
    "    print(df.isnull().sum())\n",
    "\n",
    "describe_and_nulls(\"quotes_dataset_messy.csv\")"
   ]
  }
 ],
 "metadata": {
  "kernelspec": {
   "display_name": "test",
   "language": "python",
   "name": "python3"
  },
  "language_info": {
   "codemirror_mode": {
    "name": "ipython",
    "version": 3
   },
   "file_extension": ".py",
   "mimetype": "text/x-python",
   "name": "python",
   "nbconvert_exporter": "python",
   "pygments_lexer": "ipython3",
   "version": "3.10.16"
  }
 },
 "nbformat": 4,
 "nbformat_minor": 5
}
