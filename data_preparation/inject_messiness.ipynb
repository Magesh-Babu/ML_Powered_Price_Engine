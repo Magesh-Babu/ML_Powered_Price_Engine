{
 "cells": [
  {
   "cell_type": "code",
   "execution_count": 1,
   "id": "09d828d5",
   "metadata": {},
   "outputs": [],
   "source": [
    "import numpy as np\n",
    "import pandas as pd"
   ]
  },
  {
   "cell_type": "code",
   "execution_count": 2,
   "id": "5725486e",
   "metadata": {},
   "outputs": [],
   "source": [
    "# Utility functions for injecting messiness\n",
    "\n",
    "def inject_missing_lead_time(df, frac=0.05, col='Lead_Time_weeks'):\n",
    "    \"\"\"Randomly set a fraction of 'Lead Time (weeks)' as NaN.\"\"\"\n",
    "    df.loc[df.sample(frac=frac).index, col] = np.nan\n",
    "    return df\n",
    "\n",
    "def inject_extreme_weights(df, frac=0.01, col='Weight_kg_per_m', multiplier=4):\n",
    "    \"\"\"Set a fraction of 'Weight' values to unrealistic extremes.\"\"\"\n",
    "    df.loc[df.sample(frac=frac).index, col] = df[col].mean() * multiplier\n",
    "    return df\n",
    "\n",
    "def inject_profile_name_noise(df, frac=0.07, col='Profile_Name'):\n",
    "    \"\"\"Randomly shuffle some 'Profile Name' values.\"\"\"\n",
    "    unique_profiles = df[col].unique()\n",
    "    shuffle_indices = np.random.choice(df.index, size=int(frac * len(df)), replace=False)\n",
    "    for idx in shuffle_indices:\n",
    "        df.at[idx, col] = np.random.choice(unique_profiles)\n",
    "    return df\n",
    "\n",
    "def inject_tolerance_noise(df, col='Tolerances', loc=0, scale=0.007, min_val=0.05, max_val=0.2):\n",
    "    \"\"\"Inject Gaussian noise into 'Tolerances' and clip values.\"\"\"\n",
    "    tolerance_noise = np.random.normal(loc=loc, scale=scale, size=len(df))\n",
    "    df[col] = (df[col] + tolerance_noise).clip(min_val, max_val)\n",
    "    return df\n",
    "\n",
    "def swap_gdt_values(df, frac=0.07, col='GD_T', values=None):\n",
    "    \"\"\"Randomly swap a fraction of 'GD&T' values.\"\"\"\n",
    "    if values is None:\n",
    "        values = [\"low\", \"medium\", \"high\"]\n",
    "    gd_indices = np.random.choice(df.index, size=int(frac * len(df)), replace=False)\n",
    "    for idx in gd_indices:\n",
    "        current = df.at[idx, col]\n",
    "        options = [val for val in values if val != current]\n",
    "        df.at[idx, col] = np.random.choice(options)\n",
    "    return df"
   ]
  },
  {
   "cell_type": "code",
   "execution_count": 3,
   "id": "49a0869b",
   "metadata": {},
   "outputs": [],
   "source": [
    "# Main workflow\n",
    "\n",
    "def main(input_file=\"simulated_quotes_dataset.csv\", output_file=\"quotes_dataset_messy.csv\"):\n",
    "    df = pd.read_csv(input_file)\n",
    "    df = inject_missing_lead_time(df)\n",
    "    df = inject_extreme_weights(df)\n",
    "    df = inject_profile_name_noise(df)\n",
    "    df = inject_tolerance_noise(df)\n",
    "    df = swap_gdt_values(df)\n",
    "    df.to_csv(output_file, index=False)\n",
    "    return output_file\n",
    "\n",
    "# Run the messiness injection\n",
    "messy_file = main()"
   ]
  },
  {
   "cell_type": "code",
   "execution_count": 4,
   "id": "58c46123",
   "metadata": {},
   "outputs": [
    {
     "name": "stdout",
     "output_type": "stream",
     "text": [
      "          Length_m  Weight_kg_per_m   Tolerances  Order_Quantity  \\\n",
      "count  1000.000000      1000.000000  1000.000000     1000.000000   \n",
      "mean     27.300900         1.330036     0.123740    97114.012000   \n",
      "std       6.638435         0.467476     0.042904    38319.355706   \n",
      "min      15.800000         0.837000     0.050000    32328.000000   \n",
      "25%      21.700000         1.065000     0.086846    63302.250000   \n",
      "50%      27.400000         1.299500     0.124830    98105.500000   \n",
      "75%      33.000000         1.523250     0.161106   131545.750000   \n",
      "max      38.800000         5.173416     0.200000   160992.000000   \n",
      "\n",
      "       LME_Price_EUR  Lead_Time_weeks  Quote_Price_SEK  \n",
      "count    1000.000000       950.000000      1000.000000  \n",
      "mean        3.355440         7.188421         3.016820  \n",
      "std         0.453297         3.137064         0.677761  \n",
      "min         2.550000         2.000000         1.890000  \n",
      "25%         2.977500         5.000000         2.410000  \n",
      "50%         3.370000         7.000000         3.000000  \n",
      "75%         3.740000        10.000000         3.610000  \n",
      "max         4.140000        12.000000         4.160000  \n",
      "\n",
      "Missing values per column:\n",
      "Alloy                 0\n",
      "Finish                0\n",
      "Length_m              0\n",
      "Weight_kg_per_m       0\n",
      "Profile_Name          0\n",
      "Tolerances            0\n",
      "GD_T                  0\n",
      "Order_Quantity        0\n",
      "LME_Price_EUR         0\n",
      "Customer_Category     0\n",
      "Lead_Time_weeks      50\n",
      "Quote_Price_SEK       0\n",
      "Quote_Date            0\n",
      "dtype: int64\n"
     ]
    }
   ],
   "source": [
    "# Quick checks and summary\n",
    "\n",
    "def describe_and_nulls(file_path):\n",
    "    df = pd.read_csv(file_path)\n",
    "    print(df.describe())\n",
    "    print(\"\\nMissing values per column:\")\n",
    "    print(df.isnull().sum())\n",
    "\n",
    "describe_and_nulls(\"quotes_dataset_messy.csv\")"
   ]
  },
  {
   "cell_type": "code",
   "execution_count": null,
   "id": "d60a27ff",
   "metadata": {},
   "outputs": [],
   "source": []
  }
 ],
 "metadata": {
  "kernelspec": {
   "display_name": "test",
   "language": "python",
   "name": "python3"
  },
  "language_info": {
   "codemirror_mode": {
    "name": "ipython",
    "version": 3
   },
   "file_extension": ".py",
   "mimetype": "text/x-python",
   "name": "python",
   "nbconvert_exporter": "python",
   "pygments_lexer": "ipython3",
   "version": "3.10.16"
  }
 },
 "nbformat": 4,
 "nbformat_minor": 5
}
