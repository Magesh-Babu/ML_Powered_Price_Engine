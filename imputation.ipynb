{
 "cells": [
  {
   "cell_type": "code",
   "execution_count": 1,
   "id": "3534c157",
   "metadata": {},
   "outputs": [],
   "source": [
    "from sklearn.ensemble import RandomForestRegressor\n",
    "from sklearn.model_selection import train_test_split\n",
    "from sklearn.preprocessing import OrdinalEncoder\n",
    "import numpy as np\n",
    "import pandas as pd"
   ]
  },
  {
   "cell_type": "code",
   "execution_count": 2,
   "id": "7c4834e5",
   "metadata": {},
   "outputs": [
    {
     "data": {
      "text/plain": [
       "np.int64(0)"
      ]
     },
     "execution_count": 2,
     "metadata": {},
     "output_type": "execute_result"
    }
   ],
   "source": [
    "df = pd.read_csv(\"quotes_dataset_messy.csv\")  # Load your dataset\n",
    "\n",
    "# Split dataset: rows with and without missing Lead Time\n",
    "df_lead_train = df[df[\"Lead Time (weeks)\"].notnull()]\n",
    "df_lead_missing = df[df[\"Lead Time (weeks)\"].isnull()]\n",
    "\n",
    "# Features to use for prediction (drop leakages and target)\n",
    "features = [\"Alloy\", \"Finish\", \"Length\", \"Weight\", \"Profile Name\", \"Tolerances\", \"GD&T\",\n",
    "            \"Order Quantity\", \"LME price\", \"Customer Category\", \"Quote Price (SEK)\"]\n",
    "\n",
    "# Encode categorical variables\n",
    "encoder = OrdinalEncoder(handle_unknown='use_encoded_value', unknown_value=-1)\n",
    "X_train = df_lead_train[features].copy()\n",
    "X_missing = df_lead_missing[features].copy()\n",
    "\n",
    "X_train[[\"Alloy\", \"Finish\", \"Profile Name\", \"GD&T\", \"Customer Category\"]] = encoder.fit_transform(\n",
    "    X_train[[\"Alloy\", \"Finish\", \"Profile Name\", \"GD&T\", \"Customer Category\"]]\n",
    ")\n",
    "X_missing[[\"Alloy\", \"Finish\", \"Profile Name\", \"GD&T\", \"Customer Category\"]] = encoder.transform(\n",
    "    X_missing[[\"Alloy\", \"Finish\", \"Profile Name\", \"GD&T\", \"Customer Category\"]]\n",
    ")\n",
    "\n",
    "y_train = df_lead_train[\"Lead Time (weeks)\"]\n",
    "\n",
    "# Train a random forest regressor\n",
    "model = RandomForestRegressor(n_estimators=100, random_state=42)\n",
    "model.fit(X_train, y_train)\n",
    "\n",
    "# Predict and impute\n",
    "predicted_lead_time = model.predict(X_missing)\n",
    "df.loc[df[\"Lead Time (weeks)\"].isnull(), \"Lead Time (weeks)\"] = predicted_lead_time\n",
    "\n",
    "# Confirm no missing values remain\n",
    "missing_after = df[\"Lead Time (weeks)\"].isnull().sum()\n",
    "missing_after\n"
   ]
  },
  {
   "cell_type": "code",
   "execution_count": 3,
   "id": "db28bb8a",
   "metadata": {},
   "outputs": [],
   "source": [
    "output_file = \"quotes_dataset_imputation_done.csv\"\n",
    "df.to_csv(output_file, index=False)"
   ]
  },
  {
   "cell_type": "code",
   "execution_count": null,
   "id": "c82c7467",
   "metadata": {},
   "outputs": [],
   "source": []
  }
 ],
 "metadata": {
  "kernelspec": {
   "display_name": "test",
   "language": "python",
   "name": "python3"
  },
  "language_info": {
   "codemirror_mode": {
    "name": "ipython",
    "version": 3
   },
   "file_extension": ".py",
   "mimetype": "text/x-python",
   "name": "python",
   "nbconvert_exporter": "python",
   "pygments_lexer": "ipython3",
   "version": "3.10.16"
  }
 },
 "nbformat": 4,
 "nbformat_minor": 5
}
