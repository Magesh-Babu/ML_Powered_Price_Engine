{
 "cells": [
  {
   "cell_type": "code",
   "execution_count": null,
   "id": "d5943623",
   "metadata": {},
   "outputs": [],
   "source": [
    "import pandas as pd\n",
    "import numpy as np\n",
    "from sklearn.ensemble import RandomForestRegressor\n",
    "from validation import validate_quote\n",
    "from model_development import load_model, get_latest_version\n",
    "\n",
    "def predict_quote(input_dict: dict, user_id: str, n_ensemble: int = 10):\n",
    "    # Validate input using Pydantic\n",
    "    validated = validate_quote(input_dict, strict=True)\n",
    "    input_df = pd.DataFrame([validated.model_dump()])\n",
    "    \n",
    "    # Drop fields that shouldn't be in model\n",
    "    input_df = input_df.drop(columns=[\"schema_version\", \"Quote_Date\"], errors=\"ignore\")\n",
    "\n",
    "    # Load latest model\n",
    "    version = get_latest_version(user_id)\n",
    "    model = load_model(user_id, version)\n",
    "\n",
    "    # Uncertainty via bootstrapped trees\n",
    "    preds = []\n",
    "    for i in range(n_ensemble):\n",
    "        rf = RandomForestRegressor(**model.get_params())\n",
    "        rf.fit(np.random.randn(100, input_df.shape[1]), np.random.randn(100))\n",
    "        rf.estimators_ = model.estimators_\n",
    "        pred = rf.predict(input_df)[0]\n",
    "        preds.append(pred)\n",
    "\n",
    "    mean_pred = np.mean(preds)\n",
    "    lower, upper = np.percentile(preds, [5, 95])\n",
    "    return round(mean_pred, 4), (round(lower, 4), round(upper, 4))\n"
   ]
  }
 ],
 "metadata": {
  "language_info": {
   "name": "python"
  }
 },
 "nbformat": 4,
 "nbformat_minor": 5
}
