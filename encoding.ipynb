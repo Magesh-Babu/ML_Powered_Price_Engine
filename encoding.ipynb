{
 "cells": [
  {
   "cell_type": "code",
   "execution_count": 1,
   "id": "38ca5a46",
   "metadata": {},
   "outputs": [],
   "source": [
    "from category_encoders import TargetEncoder\n",
    "from sklearn.preprocessing import OrdinalEncoder\n",
    "import pandas as pd"
   ]
  },
  {
   "cell_type": "code",
   "execution_count": null,
   "id": "6a89fe6d",
   "metadata": {},
   "outputs": [],
   "source": [
    "df = pd.read_csv(\"quotes_dataset_outlier_done.csv\")  # Load your dataset"
   ]
  },
  {
   "cell_type": "code",
   "execution_count": 5,
   "id": "7edec000",
   "metadata": {},
   "outputs": [
    {
     "name": "stdout",
     "output_type": "stream",
     "text": [
      "Warning: No categorical columns found. Calling 'transform' will only return input data.\n"
     ]
    }
   ],
   "source": [
    "# Encode high-cardinality feature using Target Encoding\n",
    "target_encoder = TargetEncoder()\n",
    "df['Profile_Name_encoded'] = target_encoder.fit_transform(df['Profile Name'], df['Quote Price (SEK)'])\n",
    "\n",
    "# Encode low-cardinality categorical features using Ordinal Encoding\n",
    "ordinal_features = ['Alloy', 'Finish', 'GD&T', 'Customer Category']\n",
    "ordinal_encoder = OrdinalEncoder()\n",
    "df[ordinal_features] = ordinal_encoder.fit_transform(df[ordinal_features])\n",
    "\n",
    "# Drop original Profile Name and store the final encoded version\n",
    "df.drop(columns=['Profile Name'], inplace=True)\n",
    "df.rename(columns={'Profile_Name_encoded': 'Profile Name'}, inplace=True)\n",
    "\n",
    "# Final check on the processed dataset\n",
    "#import ace_tools as tools; tools.display_dataframe_to_user(name=\"Preprocessed Dataset\", dataframe=df)"
   ]
  },
  {
   "cell_type": "code",
   "execution_count": null,
   "id": "922fa150",
   "metadata": {},
   "outputs": [],
   "source": [
    "output_file = \"imputation_outlier_encoding_alldone.csv\"\n",
    "df.to_csv(output_file, index=False)"
   ]
  }
 ],
 "metadata": {
  "kernelspec": {
   "display_name": "test",
   "language": "python",
   "name": "python3"
  },
  "language_info": {
   "codemirror_mode": {
    "name": "ipython",
    "version": 3
   },
   "file_extension": ".py",
   "mimetype": "text/x-python",
   "name": "python",
   "nbconvert_exporter": "python",
   "pygments_lexer": "ipython3",
   "version": "3.10.16"
  }
 },
 "nbformat": 4,
 "nbformat_minor": 5
}
