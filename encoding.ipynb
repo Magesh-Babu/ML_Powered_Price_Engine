{
 "cells": [
  {
   "cell_type": "code",
   "execution_count": null,
   "id": "38ca5a46",
   "metadata": {},
   "outputs": [],
   "source": [
    "from category_encoders import TargetEncoder\n",
    "from category_encoders import CountEncoder\n",
    "from sklearn.preprocessing import OrdinalEncoder\n",
    "import pandas as pd\n",
    "import numpy as np\n",
    "import pickle\n",
    "import json\n",
    "from sklearn.preprocessing import OrdinalEncoder\n",
    "from category_encoders import CountEncoder\n",
    "from datetime import datetime\n"
   ]
  },
  {
   "cell_type": "code",
   "execution_count": null,
   "id": "6a89fe6d",
   "metadata": {},
   "outputs": [],
   "source": [
    "df = pd.read_csv(\"quotes_dataset_outlier_done.csv\")  # Load your dataset"
   ]
  },
  {
   "cell_type": "code",
   "execution_count": null,
   "id": "1c13d16b",
   "metadata": {},
   "outputs": [],
   "source": [
    "df.head(5)"
   ]
  },
  {
   "cell_type": "code",
   "execution_count": null,
   "id": "7edec000",
   "metadata": {},
   "outputs": [],
   "source": [
    "# Encode high-cardinality feature using Target Encoding\n",
    "target_encoder = TargetEncoder()\n",
    "df['Profile_Name_encoded'] = target_encoder.fit_transform(df['Profile Name'], df['Quote Price (SEK)'])\n",
    "\n",
    "# Encode low-cardinality categorical features using Ordinal Encoding\n",
    "ordinal_features = ['Alloy', 'Finish', 'GD&T', 'Customer Category']\n",
    "ordinal_encoder = OrdinalEncoder()\n",
    "df[ordinal_features] = ordinal_encoder.fit_transform(df[ordinal_features])\n",
    "\n",
    "# Drop original Profile Name and store the final encoded version\n",
    "df.drop(columns=['Profile Name'], inplace=True)\n",
    "df.rename(columns={'Profile_Name_encoded': 'Profile Name'}, inplace=True)\n",
    "\n",
    "# Final check on the processed dataset\n",
    "#import ace_tools as tools; tools.display_dataframe_to_user(name=\"Preprocessed Dataset\", dataframe=df)"
   ]
  },
  {
   "cell_type": "code",
   "execution_count": null,
   "id": "53060a8a",
   "metadata": {},
   "outputs": [],
   "source": [
    "df.head(5)"
   ]
  },
  {
   "cell_type": "code",
   "execution_count": null,
   "id": "3aaacc5a",
   "metadata": {},
   "outputs": [],
   "source": [
    "# Encode high-cardinality feature using Target Encoding\n",
    "target_encoder = TargetEncoder()\n",
    "df['Profile_Name_encoded'] = target_encoder.fit_transform(df['Profile Name'], df['Quote Price (SEK)'])\n",
    "\n",
    "# Save encoder\n",
    "with open('encoders/profile_freq_encoder.pkl', 'wb') as f:\n",
    "    pickle.dump(freq_encoder, f)\n",
    "\n",
    "# 2. Ordinal Encoding for low-cardinality categorical variables\n",
    "ordinal_features = ['Alloy', 'Finish', 'GD_T', 'Customer_Category']\n",
    "ordinal_encoder = OrdinalEncoder()\n",
    "df[ordinal_features] = ordinal_encoder.fit_transform(df[ordinal_features])\n",
    "\n",
    "# Save encoder\n",
    "with open('encoders/ordinal_encoder.pkl', 'wb') as f:\n",
    "    pickle.dump(ordinal_encoder, f)\n",
    "\n",
    "# Rename profile column\n",
    "df.drop(columns=['Profile_Name'], inplace=True)\n",
    "df.rename(columns={'Profile_Name_encoded': 'Profile_Name'}, inplace=True)\n"
   ]
  },
  {
   "cell_type": "code",
   "execution_count": null,
   "id": "922fa150",
   "metadata": {},
   "outputs": [],
   "source": [
    "output_file = \"imputation_outlier_encoding_alldone.csv\"\n",
    "df.to_csv(output_file, index=False)"
   ]
  },
  {
   "cell_type": "code",
   "execution_count": null,
   "id": "c8bd7612",
   "metadata": {},
   "outputs": [],
   "source": []
  }
 ],
 "metadata": {
  "kernelspec": {
   "display_name": "test",
   "language": "python",
   "name": "python3"
  },
  "language_info": {
   "codemirror_mode": {
    "name": "ipython",
    "version": 3
   },
   "file_extension": ".py",
   "mimetype": "text/x-python",
   "name": "python",
   "nbconvert_exporter": "python",
   "pygments_lexer": "ipython3",
   "version": "3.10.16"
  }
 },
 "nbformat": 4,
 "nbformat_minor": 5
}
