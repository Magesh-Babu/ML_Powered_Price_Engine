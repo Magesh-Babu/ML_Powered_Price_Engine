{
 "cells": [
  {
   "cell_type": "code",
   "execution_count": 19,
   "id": "e90c5d9c",
   "metadata": {},
   "outputs": [],
   "source": [
    "import numpy as np\n",
    "import pandas as pd"
   ]
  },
  {
   "cell_type": "code",
   "execution_count": 20,
   "id": "8fd1fabc",
   "metadata": {},
   "outputs": [],
   "source": [
    "# Read the original quotes data CSV\n",
    "input_file = \"simulated_quotes_dataset.csv\"\n",
    "df = pd.read_csv(input_file)"
   ]
  },
  {
   "cell_type": "code",
   "execution_count": 21,
   "id": "4fa5374f",
   "metadata": {},
   "outputs": [],
   "source": [
    "\n",
    "# Randomly set 5% of 'Lead_Time_Weeks' as NaN\n",
    "df.loc[df.sample(frac=0.05).index, 'Lead Time (weeks)'] = np.nan"
   ]
  },
  {
   "cell_type": "code",
   "execution_count": 22,
   "id": "3d1ed9a4",
   "metadata": {},
   "outputs": [],
   "source": [
    "# Set some weight values to unrealistic extremes\n",
    "df.loc[df.sample(frac=0.01).index, 'Weight'] = df['Weight'].mean() * 4"
   ]
  },
  {
   "cell_type": "code",
   "execution_count": 23,
   "id": "9495f67f",
   "metadata": {},
   "outputs": [],
   "source": [
    "# 1. Inject noise into \"Profile Name\"\n",
    "unique_profiles = df[\"Profile Name\"].unique()\n",
    "shuffle_indices = np.random.choice(df.index, size=int(0.07 * len(df)), replace=False)\n",
    "for idx in shuffle_indices:\n",
    "    df.at[idx, \"Profile Name\"] = np.random.choice(unique_profiles)"
   ]
  },
  {
   "cell_type": "code",
   "execution_count": 16,
   "id": "a5299af3",
   "metadata": {},
   "outputs": [],
   "source": [
    "# 2. Inject Gaussian noise into \"Tolerances\"\n",
    "tolerance_noise = np.random.normal(loc=0, scale=0.007, size=len(df))\n",
    "df[\"Tolerances\"] = (df[\"Tolerances\"] + tolerance_noise).clip(0.05, 0.2)"
   ]
  },
  {
   "cell_type": "code",
   "execution_count": 17,
   "id": "61131d32",
   "metadata": {},
   "outputs": [],
   "source": [
    "# 3. Swap 5-10% values in \"GD&T\"\n",
    "gd_values = [\"low\", \"medium\", \"high\"]\n",
    "gd_indices = np.random.choice(df.index, size=int(0.07 * len(df)), replace=False)\n",
    "for idx in gd_indices:\n",
    "    current = df.at[idx, \"GD&T\"]\n",
    "    options = [val for val in gd_values if val != current]\n",
    "    df.at[idx, \"GD&T\"] = np.random.choice(options)"
   ]
  },
  {
   "cell_type": "code",
   "execution_count": 24,
   "id": "d1fc4efa",
   "metadata": {},
   "outputs": [],
   "source": [
    "output_file = \"quotes_dataset_messy.csv\"\n",
    "df.to_csv(output_file, index=False)"
   ]
  },
  {
   "cell_type": "code",
   "execution_count": null,
   "id": "6ad4fd33",
   "metadata": {},
   "outputs": [],
   "source": []
  }
 ],
 "metadata": {
  "kernelspec": {
   "display_name": "test",
   "language": "python",
   "name": "python3"
  },
  "language_info": {
   "codemirror_mode": {
    "name": "ipython",
    "version": 3
   },
   "file_extension": ".py",
   "mimetype": "text/x-python",
   "name": "python",
   "nbconvert_exporter": "python",
   "pygments_lexer": "ipython3",
   "version": "3.10.16"
  }
 },
 "nbformat": 4,
 "nbformat_minor": 5
}
