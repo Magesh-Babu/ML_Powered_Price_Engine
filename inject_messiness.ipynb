{
 "cells": [
  {
   "cell_type": "code",
   "execution_count": 1,
   "id": "e90c5d9c",
   "metadata": {},
   "outputs": [],
   "source": [
    "import numpy as np\n",
    "import pandas as pd"
   ]
  },
  {
   "cell_type": "code",
   "execution_count": null,
   "id": "8fd1fabc",
   "metadata": {},
   "outputs": [],
   "source": [
    "# Read the original quotes data CSV\n",
    "input_file = \"simulated_quotes_dataset.csv\"\n",
    "df = pd.read_csv(input_file)"
   ]
  },
  {
   "cell_type": "code",
   "execution_count": 3,
   "id": "4fa5374f",
   "metadata": {},
   "outputs": [],
   "source": [
    "\n",
    "# Randomly set 5% of 'Lead_Time_Weeks' as NaN\n",
    "df.loc[df.sample(frac=0.05).index, 'Lead Time (weeks)'] = np.nan"
   ]
  },
  {
   "cell_type": "code",
   "execution_count": 4,
   "id": "3d1ed9a4",
   "metadata": {},
   "outputs": [],
   "source": [
    "# Set some weight values to unrealistic extremes\n",
    "df.loc[df.sample(frac=0.01).index, 'Weight'] = df['Weight'].mean() * 4"
   ]
  },
  {
   "cell_type": "code",
   "execution_count": 5,
   "id": "d1fc4efa",
   "metadata": {},
   "outputs": [],
   "source": [
    "output_file = \"quotes_dataset_messy.csv\"\n",
    "df.to_csv(output_file, index=False)"
   ]
  },
  {
   "cell_type": "code",
   "execution_count": null,
   "id": "6ad4fd33",
   "metadata": {},
   "outputs": [],
   "source": []
  }
 ],
 "metadata": {
  "kernelspec": {
   "display_name": "test",
   "language": "python",
   "name": "python3"
  },
  "language_info": {
   "codemirror_mode": {
    "name": "ipython",
    "version": 3
   },
   "file_extension": ".py",
   "mimetype": "text/x-python",
   "name": "python",
   "nbconvert_exporter": "python",
   "pygments_lexer": "ipython3",
   "version": "3.10.16"
  }
 },
 "nbformat": 4,
 "nbformat_minor": 5
}
